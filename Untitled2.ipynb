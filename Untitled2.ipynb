{
 "cells": [
  {
   "cell_type": "code",
   "execution_count": 1,
   "id": "7659c377",
   "metadata": {},
   "outputs": [
    {
     "name": "stdout",
     "output_type": "stream",
     "text": [
      "day2\n"
     ]
    }
   ],
   "source": [
    "print ('day'+ str(2))"
   ]
  },
  {
   "cell_type": "code",
   "execution_count": 2,
   "id": "d7b743a0",
   "metadata": {},
   "outputs": [
    {
     "ename": "ValueError",
     "evalue": "invalid literal for int() with base 10: 'day'",
     "output_type": "error",
     "traceback": [
      "\u001b[1;31m---------------------------------------------------------------------------\u001b[0m",
      "\u001b[1;31mValueError\u001b[0m                                Traceback (most recent call last)",
      "\u001b[1;32m~\\AppData\\Local\\Temp/ipykernel_9548/201562082.py\u001b[0m in \u001b[0;36m<module>\u001b[1;34m\u001b[0m\n\u001b[1;32m----> 1\u001b[1;33m \u001b[0mprint\u001b[0m\u001b[1;33m(\u001b[0m\u001b[0mint\u001b[0m\u001b[1;33m(\u001b[0m\u001b[1;34m'day'\u001b[0m\u001b[1;33m)\u001b[0m\u001b[1;33m+\u001b[0m\u001b[1;36m2\u001b[0m\u001b[1;33m)\u001b[0m\u001b[1;33m\u001b[0m\u001b[1;33m\u001b[0m\u001b[0m\n\u001b[0m",
      "\u001b[1;31mValueError\u001b[0m: invalid literal for int() with base 10: 'day'"
     ]
    }
   ],
   "source": [
    "print(int('day')+2)"
   ]
  },
  {
   "cell_type": "code",
   "execution_count": 3,
   "id": "c9a5697e",
   "metadata": {},
   "outputs": [
    {
     "name": "stdout",
     "output_type": "stream",
     "text": [
      "day2\n"
     ]
    }
   ],
   "source": [
    "print('day' +'2')"
   ]
  },
  {
   "cell_type": "code",
   "execution_count": 4,
   "id": "204f0da8",
   "metadata": {},
   "outputs": [
    {
     "data": {
      "text/plain": [
       "['k', 'h', 'u', 's', 'h', 'b', 'o', 'o']"
      ]
     },
     "execution_count": 4,
     "metadata": {},
     "output_type": "execute_result"
    }
   ],
   "source": [
    "list('khushboo')"
   ]
  },
  {
   "cell_type": "code",
   "execution_count": 5,
   "id": "7249dc0d",
   "metadata": {},
   "outputs": [
    {
     "name": "stdout",
     "output_type": "stream",
     "text": [
      "['radha']\n"
     ]
    }
   ],
   "source": [
    "employee=[]\n",
    "employee.append('radha')\n",
    "print(employee)"
   ]
  },
  {
   "cell_type": "code",
   "execution_count": null,
   "id": "5d9be46e",
   "metadata": {},
   "outputs": [],
   "source": [
    "!pip3 insert \n"
   ]
  },
  {
   "cell_type": "code",
   "execution_count": 6,
   "id": "fe805016",
   "metadata": {},
   "outputs": [
    {
     "data": {
      "text/plain": [
       "[48888, 6897, 20000, 80000]"
      ]
     },
     "execution_count": 6,
     "metadata": {},
     "output_type": "execute_result"
    }
   ],
   "source": [
    "emp_sal=[48888,6897,20000,80000]\n",
    "emp_sal"
   ]
  },
  {
   "cell_type": "code",
   "execution_count": 7,
   "id": "5e69de27",
   "metadata": {},
   "outputs": [
    {
     "data": {
      "text/plain": [
       "[6897, 20000, 80000]"
      ]
     },
     "execution_count": 7,
     "metadata": {},
     "output_type": "execute_result"
    }
   ],
   "source": [
    "emp_sal[1:]"
   ]
  },
  {
   "cell_type": "code",
   "execution_count": 8,
   "id": "c63abe06",
   "metadata": {},
   "outputs": [
    {
     "data": {
      "text/plain": [
       "[48888, 6897, 20000]"
      ]
     },
     "execution_count": 8,
     "metadata": {},
     "output_type": "execute_result"
    }
   ],
   "source": [
    "emp_sal[:3]"
   ]
  },
  {
   "cell_type": "code",
   "execution_count": 9,
   "id": "64765ceb",
   "metadata": {},
   "outputs": [
    {
     "data": {
      "text/plain": [
       "[6897, 20000]"
      ]
     },
     "execution_count": 9,
     "metadata": {},
     "output_type": "execute_result"
    }
   ],
   "source": [
    "emp_sal[1:3]"
   ]
  },
  {
   "cell_type": "code",
   "execution_count": 10,
   "id": "8893602d",
   "metadata": {},
   "outputs": [
    {
     "data": {
      "text/plain": [
       "[48888, 6897, 20000, 80000, 25000]"
      ]
     },
     "execution_count": 10,
     "metadata": {},
     "output_type": "execute_result"
    }
   ],
   "source": [
    "emp_sal + [25000]"
   ]
  },
  {
   "cell_type": "code",
   "execution_count": 11,
   "id": "36470e4d",
   "metadata": {},
   "outputs": [
    {
     "data": {
      "text/plain": [
       "[48888, 6897, 20000, 80000]"
      ]
     },
     "execution_count": 11,
     "metadata": {},
     "output_type": "execute_result"
    }
   ],
   "source": [
    "emp_sal"
   ]
  },
  {
   "cell_type": "code",
   "execution_count": 17,
   "id": "2c452ba9",
   "metadata": {},
   "outputs": [],
   "source": [
    "\n",
    "emp_sal = emp_sal+[2500]"
   ]
  },
  {
   "cell_type": "code",
   "execution_count": 15,
   "id": "efb8f93d",
   "metadata": {},
   "outputs": [
    {
     "data": {
      "text/plain": [
       "[48888, 6897, 20000, 80000, 25000, 25000]"
      ]
     },
     "execution_count": 15,
     "metadata": {},
     "output_type": "execute_result"
    }
   ],
   "source": [
    "emp_sal"
   ]
  },
  {
   "cell_type": "code",
   "execution_count": 18,
   "id": "7ba1fddf",
   "metadata": {},
   "outputs": [
    {
     "data": {
      "text/plain": [
       "[48888, 6897, 20000, 80000, 25000, 25000, 2500, 2500]"
      ]
     },
     "execution_count": 18,
     "metadata": {},
     "output_type": "execute_result"
    }
   ],
   "source": [
    "emp_sal"
   ]
  },
  {
   "cell_type": "code",
   "execution_count": 20,
   "id": "b8fb1a7b",
   "metadata": {},
   "outputs": [
    {
     "data": {
      "text/plain": [
       "[6, 4, 5, 3, 2, 1]"
      ]
     },
     "execution_count": 20,
     "metadata": {},
     "output_type": "execute_result"
    }
   ],
   "source": [
    "lst=[1,2,3,5,4,6]\n",
    "lst.reverse()\n",
    "lst"
   ]
  },
  {
   "cell_type": "code",
   "execution_count": 21,
   "id": "c3cd2f2e",
   "metadata": {},
   "outputs": [
    {
     "name": "stdout",
     "output_type": "stream",
     "text": [
      "[1, 2, 3, 4, 5, 6]\n"
     ]
    }
   ],
   "source": [
    "lst.sort()\n",
    "print (lst)"
   ]
  },
  {
   "cell_type": "code",
   "execution_count": 22,
   "id": "7801a247",
   "metadata": {},
   "outputs": [
    {
     "name": "stdout",
     "output_type": "stream",
     "text": [
      "[6, 5, 4, 3, 2, 1]\n"
     ]
    }
   ],
   "source": [
    "lst.sort(reverse= True)\n",
    "print(lst)"
   ]
  },
  {
   "cell_type": "code",
   "execution_count": 23,
   "id": "9ced1c7c",
   "metadata": {},
   "outputs": [
    {
     "data": {
      "text/plain": [
       "[48888, 6897, 20000, 80000, 25000, 25000, 2500, 2500]"
      ]
     },
     "execution_count": 23,
     "metadata": {},
     "output_type": "execute_result"
    }
   ],
   "source": [
    "emp_sal"
   ]
  },
  {
   "cell_type": "code",
   "execution_count": 24,
   "id": "2f5df367",
   "metadata": {},
   "outputs": [
    {
     "data": {
      "text/plain": [
       "[45000, 76000, 80000, 50000, 35000]"
      ]
     },
     "execution_count": 24,
     "metadata": {},
     "output_type": "execute_result"
    }
   ],
   "source": [
    "emp_sal=[45000,76000,80000,50000,35000]\n",
    "emp_sal"
   ]
  },
  {
   "cell_type": "code",
   "execution_count": 25,
   "id": "7bbca534",
   "metadata": {},
   "outputs": [],
   "source": [
    "emp_sal=emp_sal+[26000]"
   ]
  },
  {
   "cell_type": "code",
   "execution_count": 26,
   "id": "0c81fc3f",
   "metadata": {},
   "outputs": [
    {
     "data": {
      "text/plain": [
       "[45000, 76000, 80000, 50000, 35000, 26000]"
      ]
     },
     "execution_count": 26,
     "metadata": {},
     "output_type": "execute_result"
    }
   ],
   "source": [
    "emp_sal"
   ]
  },
  {
   "cell_type": "code",
   "execution_count": null,
   "id": "da86f503",
   "metadata": {},
   "outputs": [],
   "source": []
  }
 ],
 "metadata": {
  "kernelspec": {
   "display_name": "Python 3 (ipykernel)",
   "language": "python",
   "name": "python3"
  },
  "language_info": {
   "codemirror_mode": {
    "name": "ipython",
    "version": 3
   },
   "file_extension": ".py",
   "mimetype": "text/x-python",
   "name": "python",
   "nbconvert_exporter": "python",
   "pygments_lexer": "ipython3",
   "version": "3.9.7"
  }
 },
 "nbformat": 4,
 "nbformat_minor": 5
}
